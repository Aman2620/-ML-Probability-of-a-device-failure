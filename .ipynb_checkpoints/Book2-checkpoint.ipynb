{
 "cells": [
  {
   "cell_type": "code",
   "execution_count": 1,
   "id": "ebc32996",
   "metadata": {},
   "outputs": [],
   "source": [
    "import pandas as pd\n",
    "import numpy as np\n",
    "import matplotlib.pyplot as plt\n",
    "import seaborn as sns"
   ]
  },
  {
   "cell_type": "code",
   "execution_count": 2,
   "id": "e7618b5c",
   "metadata": {},
   "outputs": [],
   "source": [
    "df = pd.read_csv('predictive_maintenance_dataset.csv')"
   ]
  },
  {
   "cell_type": "code",
   "execution_count": 3,
   "id": "ce75249e",
   "metadata": {},
   "outputs": [],
   "source": [
    "import numpy as np\n",
    "import pandas as pd\n",
    "from sklearn.model_selection import train_test_split\n",
    "from sklearn.preprocessing import MinMaxScaler\n",
    "\n",
    "\n",
    "df=pd.read_csv('predictive_maintenance_dataset.csv')\n",
    "X=df.drop(['date','device','failure','metric7'],axis=1)\n",
    "y=df['failure']\n",
    "scaler = MinMaxScaler()\n",
    "X=scaler.fit_transform(X)\n",
    "y=np.array(y)"
   ]
  },
  {
   "cell_type": "code",
   "execution_count": 4,
   "id": "f890e1bc",
   "metadata": {},
   "outputs": [
    {
     "data": {
      "text/plain": [
       "(199014, 8)"
      ]
     },
     "execution_count": 4,
     "metadata": {},
     "output_type": "execute_result"
    }
   ],
   "source": [
    "from imblearn.over_sampling import RandomOverSampler\n",
    "\n",
    "X_train, X_test, y_train, y_test = train_test_split(X, y, train_size=0.8,random_state=42)\n",
    "\n",
    "rus = RandomOverSampler(random_state=42)\n",
    "X_res, y_res = rus.fit_resample(X_train, y_train)\n",
    "X_res.shape"
   ]
  },
  {
   "cell_type": "code",
   "execution_count": 6,
   "id": "bb0204bd",
   "metadata": {},
   "outputs": [
    {
     "name": "stdout",
     "output_type": "stream",
     "text": [
      "RandomizedSearchCV(estimator=GradientBoostingClassifier(), n_iter=5, n_jobs=-1,\n",
      "                   param_distributions={'learning_rate': <scipy.stats._distn_infrastructure.rv_frozen object at 0x000001FB2FEFE430>,\n",
      "                                        'max_leaf_nodes': [2, 5, 10, 20, 50,\n",
      "                                                           100],\n",
      "                                        'n_estimators': [200, 216, 232, 248,\n",
      "                                                         265, 281, 297, 314,\n",
      "                                                         330, 346, 363, 379,\n",
      "                                                         395, 412, 428, 444,\n",
      "                                                         461, 477, 493, 510,\n",
      "                                                         526, 542, 559, 575,\n",
      "                                                         591, 608, 624, 640,\n",
      "                                                         657, 673, ...]},\n",
      "                   random_state=0, refit=False, scoring=['accuracy', 'f1'])\n"
     ]
    }
   ],
   "source": [
    "from scipy.stats import loguniform\n",
    "from sklearn.model_selection import RandomizedSearchCV\n",
    "from sklearn.ensemble import GradientBoostingClassifier\n",
    "\n",
    "param_distributions = {\n",
    "    \"n_estimators\": [int(x) for x in np.linspace(start = 200, stop = 1000, num = 50)],\n",
    "    \"max_leaf_nodes\": [2, 5, 10, 20, 50, 100],\n",
    "    \"learning_rate\": loguniform(0.01, 1),\n",
    "}\n",
    "\n",
    "search_cv = RandomizedSearchCV(\n",
    "    GradientBoostingClassifier(), param_distributions=param_distributions,\n",
    "    scoring=['accuracy','f1'], n_iter=5, random_state=0, n_jobs=-1, refit=False)\n",
    "print(search_cv)"
   ]
  },
  {
   "cell_type": "code",
   "execution_count": null,
   "id": "941544cb",
   "metadata": {},
   "outputs": [],
   "source": []
  }
 ],
 "metadata": {
  "kernelspec": {
   "display_name": "Python 3 (ipykernel)",
   "language": "python",
   "name": "python3"
  },
  "language_info": {
   "codemirror_mode": {
    "name": "ipython",
    "version": 3
   },
   "file_extension": ".py",
   "mimetype": "text/x-python",
   "name": "python",
   "nbconvert_exporter": "python",
   "pygments_lexer": "ipython3",
   "version": "3.9.7"
  }
 },
 "nbformat": 4,
 "nbformat_minor": 5
}
